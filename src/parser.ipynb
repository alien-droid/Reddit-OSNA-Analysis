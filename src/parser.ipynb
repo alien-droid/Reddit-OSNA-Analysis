{
 "cells": [
  {
   "cell_type": "code",
   "execution_count": 1,
   "metadata": {},
   "outputs": [],
   "source": [
    "# Importing the Libraries\n",
    "\n",
    "import json\n",
    "import praw, prawcore"
   ]
  },
  {
   "cell_type": "markdown",
   "metadata": {},
   "source": [
    "#### Loading the 'config' json holding the credentials for running the 'reddit' client."
   ]
  },
  {
   "cell_type": "code",
   "execution_count": 2,
   "metadata": {},
   "outputs": [],
   "source": [
    "#setting up the 'praw' client\n",
    "config = json.load(open('./config.json', 'r'))\n",
    "\n",
    "reddit = praw.Reddit(\n",
    "    client_id=config['clientId'],\n",
    "    client_secret=config['clientSecret'],\n",
    "    user_agent=config['userAgent'],\n",
    ")\n",
    "\n"
   ]
  },
  {
   "cell_type": "markdown",
   "metadata": {},
   "source": [
    "#### Listing the 20 'popular' subreddits and listing the top 20 'active' users in the community. "
   ]
  },
  {
   "cell_type": "code",
   "execution_count": 3,
   "metadata": {},
   "outputs": [
    {
     "name": "stdout",
     "output_type": "stream",
     "text": [
      "385\n"
     ]
    }
   ],
   "source": [
    "# List of popular subreddits\n",
    "active_users = set()\n",
    "subreddits = reddit.subreddits.popular(limit=20) #Popular '20' subreddits\n",
    "for sub in subreddits:\n",
    "    for submission in sub.new(limit=20): #New '20' Submissions per subreddit.\n",
    "        if submission.author is not None:\n",
    "            active_users.add(submission.author.name)\n",
    "\n",
    "print(len(active_users))"
   ]
  },
  {
   "cell_type": "markdown",
   "metadata": {},
   "source": [
    "#### Temporarily save the user activity (user + subreddits) to a JSON file."
   ]
  },
  {
   "cell_type": "code",
   "execution_count": 4,
   "metadata": {},
   "outputs": [],
   "source": [
    "# User's activity \n",
    "from collections import defaultdict\n",
    "\n",
    "active_users = list(active_users)\n",
    "\n",
    "# fetching the list of a subreddits (submission or comment) for a user\n",
    "def map_user_activity(username, user_activity):\n",
    "    user = reddit.redditor(username)\n",
    "\n",
    "    subreddit_names = {item.subreddit.display_name for item in user.submissions.new(limit=100)}\n",
    "    subreddit_names |= {item.subreddit.display_name for item in user.comments.new(limit=100)}\n",
    "    user_activity[username] = list(subreddit_names)\n",
    "    \n",
    "\n",
    "user_activity = defaultdict(list)\n",
    "for user in active_users:\n",
    "    map_user_activity(user, user_activity)   \n",
    "\n",
    "# intermediate step -- save to json (Since more number of nodes are stored)\n",
    "with open('user_activity.json', 'w') as fp:\n",
    "    json.dump(user_activity, fp)\n"
   ]
  }
 ],
 "metadata": {
  "kernelspec": {
   "display_name": "osna",
   "language": "python",
   "name": "python3"
  },
  "language_info": {
   "codemirror_mode": {
    "name": "ipython",
    "version": 3
   },
   "file_extension": ".py",
   "mimetype": "text/x-python",
   "name": "python",
   "nbconvert_exporter": "python",
   "pygments_lexer": "ipython3",
   "version": "3.10.13"
  }
 },
 "nbformat": 4,
 "nbformat_minor": 2
}
